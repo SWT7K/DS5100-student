{
 "cells": [
  {
   "cell_type": "code",
   "execution_count": 6,
   "id": "302ea1c4-7bc5-43d3-9078-7777c3b53dc7",
   "metadata": {
    "tags": []
   },
   "outputs": [
    {
     "name": "stdout",
     "output_type": "stream",
     "text": [
      "0.1569230556488037\n"
     ]
    },
    {
     "data": {
      "text/plain": [
       "[-1, 2, -3, 4, -5, 6, -7, 8, -9, 10]"
      ]
     },
     "execution_count": 6,
     "metadata": {},
     "output_type": "execute_result"
    }
   ],
   "source": [
    "#5.1\n",
    "import time\n",
    "start_time = time.time()\n",
    "my_list = []\n",
    "for x in range(1, 1000000):\n",
    "    # I didn't remember to do 100001\n",
    "    if x % 2 == 1:\n",
    "        x *= -1\n",
    "    my_list.append(x)\n",
    "    \n",
    "print(time.time() - start_time)\n",
    "my_list[:10]\n",
    "\n"
   ]
  },
  {
   "cell_type": "code",
   "execution_count": 9,
   "id": "77b72295-54ac-47e2-bd74-aa1daedd3c35",
   "metadata": {},
   "outputs": [
    {
     "name": "stdout",
     "output_type": "stream",
     "text": [
      "0.025409936904907227\n"
     ]
    },
    {
     "data": {
      "text/plain": [
       "[-1, 2, -3, 4, -5, 6, -7, 8, -9, 10]"
      ]
     },
     "execution_count": 9,
     "metadata": {},
     "output_type": "execute_result"
    }
   ],
   "source": [
    "#5.2\n",
    "start_time = time.time()\n",
    "my_list = [x * -1 if x % 2 == 1 else x for x in range(1,100001)]\n",
    "print(time.time() - start_time)\n",
    "my_list[:10]\n"
   ]
  },
  {
   "cell_type": "code",
   "execution_count": 15,
   "id": "91875563-aa53-4702-855a-46cff0fd8cea",
   "metadata": {
    "tags": []
   },
   "outputs": [
    {
     "data": {
      "text/plain": [
       "array([4, 2, 6, 1, 2, 3, 3, 6, 4, 5])"
      ]
     },
     "execution_count": 15,
     "metadata": {},
     "output_type": "execute_result"
    }
   ],
   "source": [
    "#5.3\n",
    "import numpy as np\n",
    "my_randoms = np.random.randint(1, 7, 10)\n",
    "my_randoms"
   ]
  },
  {
   "cell_type": "code",
   "execution_count": 18,
   "id": "9078d28f-025b-4758-a097-765eacd01f95",
   "metadata": {
    "tags": []
   },
   "outputs": [
    {
     "data": {
      "text/plain": [
       "int"
      ]
     },
     "execution_count": 18,
     "metadata": {},
     "output_type": "execute_result"
    }
   ],
   "source": [
    "#5,4\n",
    "rand = np.random.randint(100)\n",
    "type(rand)"
   ]
  },
  {
   "cell_type": "code",
   "execution_count": 17,
   "id": "d6c7870f-55b3-4f3e-b55f-d83d088f4418",
   "metadata": {
    "tags": []
   },
   "outputs": [
    {
     "data": {
      "text/plain": [
       "numpy.ndarray"
      ]
     },
     "execution_count": 17,
     "metadata": {},
     "output_type": "execute_result"
    }
   ],
   "source": [
    "rands = np.random.randint(1, 21, 5)\n",
    "type(rands)"
   ]
  },
  {
   "cell_type": "code",
   "execution_count": 20,
   "id": "61163ea7-de91-44a0-88ed-2e91c5fd425d",
   "metadata": {
    "tags": []
   },
   "outputs": [
    {
     "data": {
      "text/plain": [
       "(array([2., 1., 0., 0., 0., 0., 0., 0., 1., 1.]),\n",
       " array([ 1. ,  2.6,  4.2,  5.8,  7.4,  9. , 10.6, 12.2, 13.8, 15.4, 17. ]),\n",
       " <BarContainer object of 10 artists>)"
      ]
     },
     "execution_count": 20,
     "metadata": {},
     "output_type": "execute_result"
    },
    {
     "data": {
      "image/png": "[encoded data removed]",
      "text/plain": [
       "<Figure size 640x480 with 1 Axes>"
      ]
     },
     "metadata": {},
     "output_type": "display_data"
    }
   ],
   "source": [
    "#5.5\n",
    "from matplotlib.pyplot import hist\n",
    "hist(rands)"
   ]
  },
  {
   "cell_type": "code",
   "execution_count": 21,
   "id": "34a4faaa-e75e-463b-a957-27e258ef3666",
   "metadata": {
    "tags": []
   },
   "outputs": [
    {
     "data": {
      "text/plain": [
       "array([[-0.6923571 ,  0.68054137,  1.21123863],\n",
       "       [-1.62638428,  1.65988071,  0.63229842]])"
      ]
     },
     "execution_count": 21,
     "metadata": {},
     "output_type": "execute_result"
    }
   ],
   "source": [
    "#5.6\n",
    "my_matrix = np.random.randn(2,3)\n",
    "my_matrix"
   ]
  },
  {
   "cell_type": "code",
   "execution_count": 28,
   "id": "3adbd7f9-254e-4820-959a-363ad543baf5",
   "metadata": {
    "tags": []
   },
   "outputs": [
    {
     "data": {
      "text/plain": [
       "array([[-1.38471419,  1.36108273,  2.42247727],\n",
       "       [-3.25276855,  3.31976143,  1.26459684]])"
      ]
     },
     "execution_count": 28,
     "metadata": {},
     "output_type": "execute_result"
    }
   ],
   "source": [
    "#5.7\n",
    "2 * my_matrix"
   ]
  },
  {
   "cell_type": "code",
   "execution_count": 24,
   "id": "cf43cd51-1dba-4193-8aa1-9b0d0245b9ff",
   "metadata": {
    "tags": []
   },
   "outputs": [
    {
     "data": {
      "text/plain": [
       "array([[-1.38471419,  1.36108273,  2.42247727],\n",
       "       [-3.25276855,  3.31976143,  1.26459684]])"
      ]
     },
     "execution_count": 24,
     "metadata": {},
     "output_type": "execute_result"
    }
   ],
   "source": [
    "#5.8\n",
    "my_matrix + my_matrix"
   ]
  },
  {
   "cell_type": "code",
   "execution_count": 25,
   "id": "e972e174-b711-4c1b-83f8-495ae9038cea",
   "metadata": {
    "tags": []
   },
   "outputs": [
    {
     "data": {
      "text/plain": [
       "array([[-1.44434137,  1.46941839,  0.82560114],\n",
       "       [-0.61486084,  0.60245293,  1.5815317 ]])"
      ]
     },
     "execution_count": 25,
     "metadata": {},
     "output_type": "execute_result"
    }
   ],
   "source": [
    "#5.9\n",
    "1/my_matrix"
   ]
  },
  {
   "cell_type": "code",
   "execution_count": 30,
   "id": "ab065312-bf2e-423f-bb20-7cd2fd5b84aa",
   "metadata": {
    "tags": []
   },
   "outputs": [
    {
     "data": {
      "text/plain": [
       "array([[0., 0., 0., 0.],\n",
       "       [0., 0., 0., 0.]])"
      ]
     },
     "execution_count": 30,
     "metadata": {},
     "output_type": "execute_result"
    }
   ],
   "source": [
    "#5.10two_by_four = (2,4)\n",
    "zero_matrix = np.zeros(two_by_four)\n",
    "zero_matrix"
   ]
  },
  {
   "cell_type": "code",
   "execution_count": 27,
   "id": "d0b0e9f7-0f96-4fbe-a249-30ec5c85afcc",
   "metadata": {
    "tags": []
   },
   "outputs": [
    {
     "data": {
      "text/plain": [
       "array([[1., 1., 1., 1.],\n",
       "       [1., 1., 1., 1.]])"
      ]
     },
     "execution_count": 27,
     "metadata": {},
     "output_type": "execute_result"
    }
   ],
   "source": [
    "one_matrix = np.ones(two_by_four)\n",
    "one_matrix"
   ]
  },
  {
   "cell_type": "code",
   "execution_count": 31,
   "id": "de58f020-396e-4a25-9d52-6dd013f43b48",
   "metadata": {
    "tags": []
   },
   "outputs": [
    {
     "data": {
      "text/plain": [
       "array([[1., 0., 0., 0.],\n",
       "       [0., 1., 0., 0.],\n",
       "       [0., 0., 1., 0.],\n",
       "       [0., 0., 0., 1.]])"
      ]
     },
     "execution_count": 31,
     "metadata": {},
     "output_type": "execute_result"
    }
   ],
   "source": [
    "#5.11\n",
    "ident_four = np.identity(4)\n",
    "ident_four"
   ]
  },
  {
   "cell_type": "code",
   "execution_count": 34,
   "id": "d737f3e0-def8-4bca-9ccd-8407996fecfa",
   "metadata": {
    "tags": []
   },
   "outputs": [
    {
     "data": {
      "text/plain": [
       "array([ 1.92714841,  0.72664019, -0.48304368, -1.00528772,  0.88098416])"
      ]
     },
     "execution_count": 34,
     "metadata": {},
     "output_type": "execute_result"
    }
   ],
   "source": [
    "#5.12\n",
    "five_rand = np.random.randn(5)\n",
    "five_rand"
   ]
  },
  {
   "cell_type": "code",
   "execution_count": 37,
   "id": "43f1a4f8-fe4e-4ff3-8273-17de5e0cd1af",
   "metadata": {
    "tags": []
   },
   "outputs": [
    {
     "data": {
      "text/plain": [
       "array([ 0.72664019, -0.48304368, -1.00528772])"
      ]
     },
     "execution_count": 37,
     "metadata": {},
     "output_type": "execute_result"
    }
   ],
   "source": [
    "five_rand[1:4]\n",
    "# I'll probably keep thimking this should be [1:3] for a long time"
   ]
  },
  {
   "cell_type": "code",
   "execution_count": 38,
   "id": "ba2aa3c9-82b3-4e41-ab3d-2bf44c78f5d7",
   "metadata": {
    "tags": []
   },
   "outputs": [
    {
     "data": {
      "text/plain": [
       "array([ 0.72664019, -0.48304368, -1.00528772])"
      ]
     },
     "execution_count": 38,
     "metadata": {},
     "output_type": "execute_result"
    }
   ],
   "source": [
    "five_rand[1:-1]"
   ]
  },
  {
   "cell_type": "code",
   "execution_count": 40,
   "id": "3651646e-110b-43d1-8fec-188d5236d688",
   "metadata": {
    "tags": []
   },
   "outputs": [
    {
     "data": {
      "text/plain": [
       "array([1.92714841, 0.72664019, 0.88098416])"
      ]
     },
     "execution_count": 40,
     "metadata": {},
     "output_type": "execute_result"
    }
   ],
   "source": [
    "#5.13\n",
    "five_rand[five_rand > 0.15]\n"
   ]
  },
  {
   "cell_type": "code",
   "execution_count": 42,
   "id": "996a827d-e71a-4bf3-8406-bf1d2e4ac3b3",
   "metadata": {
    "tags": []
   },
   "outputs": [
    {
     "data": {
      "text/plain": [
       "array([[ 0.32553723, -0.77016714,  0.41644294],\n",
       "       [ 1.50399666,  1.10226499, -1.18051389],\n",
       "       [-0.87812525, -0.75923283, -2.0207711 ]])"
      ]
     },
     "execution_count": 42,
     "metadata": {},
     "output_type": "execute_result"
    }
   ],
   "source": [
    "#5.14\n",
    "three_by_three = np.random.randn(3,3)\n",
    "three_by_three"
   ]
  },
  {
   "cell_type": "code",
   "execution_count": 43,
   "id": "e2b7ebea-f699-4a0b-81e3-d2cd60e7d934",
   "metadata": {
    "tags": []
   },
   "outputs": [
    {
     "data": {
      "text/plain": [
       "array([[ 1.50399666,  1.10226499],\n",
       "       [-0.87812525, -0.75923283]])"
      ]
     },
     "execution_count": 43,
     "metadata": {},
     "output_type": "execute_result"
    }
   ],
   "source": [
    "three_by_three[1:, :2]"
   ]
  },
  {
   "cell_type": "code",
   "execution_count": 46,
   "id": "8abadf80-adba-4c87-b91b-705cd638d2fc",
   "metadata": {
    "tags": []
   },
   "outputs": [
    {
     "data": {
      "text/plain": [
       "array([[0.32553723, 0.        , 0.41644294],\n",
       "       [1.50399666, 1.10226499, 0.        ],\n",
       "       [0.        , 0.        , 0.        ]])"
      ]
     },
     "execution_count": 46,
     "metadata": {},
     "output_type": "execute_result"
    }
   ],
   "source": [
    "#5.15\n",
    "three_by_three_zeros = three_by_three.copy()\n",
    "three_by_three_zeros[three_by_three_zeros < 0]= 0\n",
    "three_by_three_zeros"
   ]
  },
  {
   "cell_type": "code",
   "execution_count": 45,
   "id": "188ee4e4-68a6-401b-a138-0a540e5ec8fe",
   "metadata": {
    "tags": []
   },
   "outputs": [
    {
     "data": {
      "text/plain": [
       "array([[ 0.32553723, -0.77016714,  0.41644294],\n",
       "       [ 1.50399666,  1.10226499, -1.18051389],\n",
       "       [-0.87812525, -0.75923283, -2.0207711 ]])"
      ]
     },
     "execution_count": 45,
     "metadata": {},
     "output_type": "execute_result"
    }
   ],
   "source": [
    "three_by_three"
   ]
  },
  {
   "cell_type": "code",
   "execution_count": null,
   "id": "8fa41366-beb9-4fd4-94a6-a07b7cb9a3f8",
   "metadata": {},
   "outputs": [],
   "source": []
  }
 ],
 "metadata": {
  "kernelspec": {
   "display_name": "Python 3 (ipykernel)",
   "language": "python",
   "name": "python3"
  },
  "language_info": {
   "codemirror_mode": {
    "name": "ipython",
    "version": 3
   },
   "file_extension": ".py",
   "mimetype": "text/x-python",
   "name": "python",
   "nbconvert_exporter": "python",
   "pygments_lexer": "ipython3",
   "version": "3.11.4"
  }
 },
 "nbformat": 4,
 "nbformat_minor": 5
}
