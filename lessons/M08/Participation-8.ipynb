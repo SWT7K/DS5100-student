{
 "cells": [
  {
   "cell_type": "code",
   "execution_count": 17,
   "id": "f65ee747-7ffb-4175-9492-58b9207cd9a2",
   "metadata": {},
   "outputs": [
    {
     "name": "stdout",
     "output_type": "stream",
     "text": [
      "there is an an error: division by zero\n"
     ]
    }
   ],
   "source": [
    "a = 1\n",
    "b = 0\n",
    "try:\n",
    "    quotient = a/b\n",
    "    print(\"quotient =\",quotient)\n",
    "except ZeroDivisionError as my_error:\n",
    "    print(\"there is an an error:\", my_error)\n",
    "          \n",
    "          \n",
    "          "
   ]
  },
  {
   "cell_type": "code",
   "execution_count": 20,
   "id": "9d419cd8-b900-42ee-a65d-669aac7a38bf",
   "metadata": {
    "tags": []
   },
   "outputs": [
    {
     "ename": "AssertionError",
     "evalue": "statement2 is true",
     "output_type": "error",
     "traceback": [
      "\u001b[0;31m---------------------------------------------------------------------------\u001b[0m",
      "\u001b[0;31mAssertionError\u001b[0m                            Traceback (most recent call last)",
      "Cell \u001b[0;32mIn[20], line 5\u001b[0m\n\u001b[1;32m      2\u001b[0m statement2 \u001b[38;5;241m=\u001b[39m \u001b[38;5;241m3\u001b[39m\u001b[38;5;241m==\u001b[39m\u001b[38;5;241m4\u001b[39m\n\u001b[1;32m      4\u001b[0m \u001b[38;5;28;01massert\u001b[39;00m statement1, \u001b[38;5;124m\"\u001b[39m\u001b[38;5;124mstatement1 is true\u001b[39m\u001b[38;5;124m\"\u001b[39m\n\u001b[0;32m----> 5\u001b[0m \u001b[38;5;28;01massert\u001b[39;00m statement2, \u001b[38;5;124m\"\u001b[39m\u001b[38;5;124mstatement2 is true\u001b[39m\u001b[38;5;124m\"\u001b[39m\n",
      "\u001b[0;31mAssertionError\u001b[0m: statement2 is true"
     ]
    }
   ],
   "source": [
    "statement1 = True\n",
    "statement2 = 3==4\n",
    "\n",
    "assert statement1, \"statement1 is true\"\n",
    "assert statement2, \"statement2 is true\"\n"
   ]
  },
  {
   "cell_type": "code",
   "execution_count": 32,
   "id": "926ec2d8-27f3-48a2-8728-ea4a94618835",
   "metadata": {
    "tags": []
   },
   "outputs": [
    {
     "ename": "AssertionError",
     "evalue": "Assertion 4 failed",
     "output_type": "error",
     "traceback": [
      "\u001b[0;31m---------------------------------------------------------------------------\u001b[0m",
      "\u001b[0;31mAssertionError\u001b[0m                            Traceback (most recent call last)",
      "Cell \u001b[0;32mIn[32], line 11\u001b[0m\n\u001b[1;32m      8\u001b[0m \u001b[38;5;28;01massert\u001b[39;00m area(\u001b[38;5;241m0\u001b[39m) \u001b[38;5;241m==\u001b[39m \u001b[38;5;241m0\u001b[39m, \u001b[38;5;124m\"\u001b[39m\u001b[38;5;124mAssertion 2 failed\u001b[39m\u001b[38;5;124m\"\u001b[39m\n\u001b[1;32m      9\u001b[0m \u001b[38;5;28;01massert\u001b[39;00m math\u001b[38;5;241m.\u001b[39misclose(area(\u001b[38;5;241m5\u001b[39m), \u001b[38;5;241m78.5\u001b[39m, abs_tol \u001b[38;5;241m=\u001b[39m \u001b[38;5;241m.1\u001b[39m), \u001b[38;5;124m\"\u001b[39m\u001b[38;5;124mAssertion 3 failed\u001b[39m\u001b[38;5;124m\"\u001b[39m\n\u001b[0;32m---> 11\u001b[0m \u001b[38;5;28;01massert\u001b[39;00m math\u001b[38;5;241m.\u001b[39misclose(area(\u001b[38;5;241m5\u001b[39m), \u001b[38;5;241m80\u001b[39m, abs_tol \u001b[38;5;241m=\u001b[39m \u001b[38;5;241m.1\u001b[39m), \u001b[38;5;124m\"\u001b[39m\u001b[38;5;124mAssertion 4 failed\u001b[39m\u001b[38;5;124m\"\u001b[39m\n",
      "\u001b[0;31mAssertionError\u001b[0m: Assertion 4 failed"
     ]
    }
   ],
   "source": [
    "import math\n",
    "from math import pi\n",
    "\n",
    "def area(radius):\n",
    "    return pi * radius**2\n",
    "\n",
    "assert isinstance(area(1), float), \"Assertion 1 failed\"\n",
    "assert area(0) == 0, \"Assertion 2 failed\"\n",
    "assert math.isclose(area(5), 78.5, abs_tol = .1), \"Assertion 3 failed\"\n",
    "\n",
    "assert math.isclose(area(5), 80, abs_tol = .1), \"Assertion 4 failed\"\n"
   ]
  },
  {
   "cell_type": "code",
   "execution_count": 21,
   "id": "779a6163-7729-482a-ac4e-482ee9815b2e",
   "metadata": {
    "tags": []
   },
   "outputs": [],
   "source": [
    "# I had no idea how to do the last 2."
   ]
  }
 ],
 "metadata": {
  "kernelspec": {
   "display_name": "Python 3 (ipykernel)",
   "language": "python",
   "name": "python3"
  },
  "language_info": {
   "codemirror_mode": {
    "name": "ipython",
    "version": 3
   },
   "file_extension": ".py",
   "mimetype": "text/x-python",
   "name": "python",
   "nbconvert_exporter": "python",
   "pygments_lexer": "ipython3",
   "version": "3.11.4"
  }
 },
 "nbformat": 4,
 "nbformat_minor": 5
}
