{
 "cells": [
  {
   "cell_type": "code",
   "execution_count": 9,
   "id": "77c0eeaf-8280-4889-9e27-19ab01a4d347",
   "metadata": {},
   "outputs": [],
   "source": [
    "class MyClass():\n",
    "    \"\"\"example class for Exercise 7.1\"\"\"\n",
    "    \n",
    "    att1 = \"foo\"\n",
    "    \n",
    "    def __init__(self,att2):\n",
    "        self.att2 = att2\n",
    "        \n",
    "    def add(self):\n",
    "        self.msg = self.att1 + ' ' + self.att2\n",
    "        print(self.msg)\n",
    "\n",
    "    "
   ]
  },
  {
   "cell_type": "code",
   "execution_count": 10,
   "id": "080196e4-6b04-424b-af78-c66a60a4b756",
   "metadata": {
    "tags": []
   },
   "outputs": [
    {
     "data": {
      "text/plain": [
       "('foo', 'bar')"
      ]
     },
     "execution_count": 10,
     "metadata": {},
     "output_type": "execute_result"
    }
   ],
   "source": [
    "my_string = MyClass(\"bar\")\n",
    "my_string.att1, my_string.att2\n"
   ]
  },
  {
   "cell_type": "code",
   "execution_count": 11,
   "id": "e6884dca-7e32-43f7-a0c1-2891dd098b42",
   "metadata": {
    "tags": []
   },
   "outputs": [
    {
     "name": "stdout",
     "output_type": "stream",
     "text": [
      "foo bar\n"
     ]
    }
   ],
   "source": [
    "my_string.add()\n"
   ]
  },
  {
   "cell_type": "code",
   "execution_count": 16,
   "id": "bb5076c5-8eec-4da7-b5c5-50799db3a0be",
   "metadata": {
    "tags": []
   },
   "outputs": [],
   "source": [
    "import pandas as pd\n",
    "\n",
    "class Student():\n",
    "    \n",
    "    def __init__(self, name,id):\n",
    "        self.name = name\n",
    "        self.id = id\n",
    "        self.grades = pd.Series(dtype=float)\n",
    "        \n",
    "    def add_grade(self, assignment, grade):\n",
    "        self.grades.loc[assignment] = grade\n",
    "        \n",
    "    def show_grades(self):\n",
    "        self.grades.plot.bar(title=f\"Grades for {self.name} ({self.id})\")\n",
    "        "
   ]
  },
  {
   "cell_type": "code",
   "execution_count": 17,
   "id": "f45cb462-b4dc-4a57-a92a-e679a7ed700a",
   "metadata": {
    "tags": []
   },
   "outputs": [
    {
     "data": {
      "image/png": "[encoded data removed]",
      "text/plain": [
       "<Figure size 640x480 with 1 Axes>"
      ]
     },
     "metadata": {},
     "output_type": "display_data"
    }
   ],
   "source": [
    "student1 = Student(\"Jimmy\", \"abc1d\")\n",
    "\n",
    "student1.add_grade(\"HW01\", 100)\n",
    "\n",
    "student1.show_grades()"
   ]
  },
  {
   "cell_type": "code",
   "execution_count": 38,
   "id": "d582dd20-d045-4d6d-bbd3-a78ba024dd45",
   "metadata": {
    "tags": []
   },
   "outputs": [
    {
     "name": "stdout",
     "output_type": "stream",
     "text": [
      "Area is 78.54\n",
      "Circumference is 31.42\n"
     ]
    }
   ],
   "source": [
    "from math import pi\n",
    "\n",
    "class circle():\n",
    "    \n",
    "    def __init__(self, radius):\n",
    "        self.radius = radius\n",
    "        \n",
    "    def area(self):\n",
    "        self.area = round(pi * self.radius**2, 2)\n",
    "        \n",
    "    def circ(self):\n",
    "        self.circ = round(2 * pi * self.radius, 2)\n",
    "\n",
    "my_circle = circle(5)\n",
    "my_circle.area()\n",
    "my_circle.circ()\n",
    "\n",
    "print(\"Area is\", my_circle.area)\n",
    "print(\"Circumference is\", my_circle.circ)\n",
    "\n",
    "        "
   ]
  },
  {
   "cell_type": "code",
   "execution_count": null,
   "id": "625d03fa-1a89-4cff-b600-5103c8ce2771",
   "metadata": {},
   "outputs": [],
   "source": []
  }
 ],
 "metadata": {
  "kernelspec": {
   "display_name": "Python 3 (ipykernel)",
   "language": "python",
   "name": "python3"
  },
  "language_info": {
   "codemirror_mode": {
    "name": "ipython",
    "version": 3
   },
   "file_extension": ".py",
   "mimetype": "text/x-python",
   "name": "python",
   "nbconvert_exporter": "python",
   "pygments_lexer": "ipython3",
   "version": "3.11.4"
  }
 },
 "nbformat": 4,
 "nbformat_minor": 5
}
