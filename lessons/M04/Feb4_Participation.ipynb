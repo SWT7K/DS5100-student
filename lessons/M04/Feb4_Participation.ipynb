{
 "cells": [
  {
   "cell_type": "code",
   "execution_count": 19,
   "id": "4e8f40f8-c856-4cb1-a22c-f3542760bdee",
   "metadata": {
    "tags": []
   },
   "outputs": [
    {
     "data": {
      "text/plain": [
       "True"
      ]
     },
     "execution_count": 19,
     "metadata": {},
     "output_type": "execute_result"
    }
   ],
   "source": [
    "def lencheck(string, number):\n",
    "    return len(string) == number\n",
    "\n",
    "lencheck(\"Pineapple\",9)\n"
   ]
  },
  {
   "cell_type": "code",
   "execution_count": 20,
   "id": "98e8002e-1ef8-4bb3-844f-7a9e67a9bdca",
   "metadata": {
    "tags": []
   },
   "outputs": [
    {
     "name": "stdout",
     "output_type": "stream",
     "text": [
      "1\n",
      "4\n",
      "9\n",
      "16\n",
      "25\n"
     ]
    }
   ],
   "source": [
    "def make_squares(*numbers):\n",
    "    for x in numbers:\n",
    "        print(x**2)\n",
    "        \n",
    "make_squares(1,2,3,4,5)"
   ]
  },
  {
   "cell_type": "code",
   "execution_count": 25,
   "id": "e5bc6bf5-0a76-440b-85ad-61b973d0bd58",
   "metadata": {
    "tags": []
   },
   "outputs": [
    {
     "data": {
      "text/plain": [
       "'T8R'"
      ]
     },
     "execution_count": 25,
     "metadata": {},
     "output_type": "execute_result"
    }
   ],
   "source": [
    "def make_numeronym(longword):\n",
    "    if len(longword) > 4:\n",
    "        stuff = longword[0].upper() + str(len(longword)-2) + longword[-1].upper()\n",
    "        return stuff\n",
    "    else:\n",
    "        print(\"Word is too short.  Must be at least five letters long\")\n",
    "    \n",
    "    \n",
    "    \n",
    "make_numeronym(\"typewriter\")\n",
    "          "
   ]
  },
  {
   "cell_type": "code",
   "execution_count": 26,
   "id": "d3ee6f8e-2eb1-459e-85fc-332df2abc5ec",
   "metadata": {
    "tags": []
   },
   "outputs": [
    {
     "data": {
      "text/plain": [
       "1"
      ]
     },
     "execution_count": 26,
     "metadata": {},
     "output_type": "execute_result"
    }
   ],
   "source": [
    "def sub5(number):\n",
    "    minus5 = number - 5\n",
    "    if minus5 >= 0:\n",
    "        return 1\n",
    "    else:\n",
    "        return 0\n",
    "    \n",
    "sub5(13)\n"
   ]
  },
  {
   "cell_type": "code",
   "execution_count": 28,
   "id": "d88957b3-4ecf-456a-a952-02b55e99485a",
   "metadata": {
    "tags": []
   },
   "outputs": [
    {
     "name": "stdout",
     "output_type": "stream",
     "text": [
      "17\n"
     ]
    }
   ],
   "source": [
    "def secret():\n",
    "    secret_x = 17\n",
    "    print(secret_x)\n",
    "    \n",
    "secret()\n"
   ]
  },
  {
   "cell_type": "code",
   "execution_count": 29,
   "id": "65b7837b-8132-4d28-b229-665be036abc0",
   "metadata": {
    "tags": []
   },
   "outputs": [
    {
     "ename": "NameError",
     "evalue": "name 'secret_x' is not defined",
     "output_type": "error",
     "traceback": [
      "\u001b[0;31m---------------------------------------------------------------------------\u001b[0m",
      "\u001b[0;31mNameError\u001b[0m                                 Traceback (most recent call last)",
      "Cell \u001b[0;32mIn[29], line 1\u001b[0m\n\u001b[0;32m----> 1\u001b[0m \u001b[38;5;28mprint\u001b[39m(\u001b[43msecret_x\u001b[49m)\n",
      "\u001b[0;31mNameError\u001b[0m: name 'secret_x' is not defined"
     ]
    }
   ],
   "source": [
    "print(secret_x)"
   ]
  },
  {
   "cell_type": "code",
   "execution_count": null,
   "id": "ca373d30-0fa1-404e-b02a-7fea7835de86",
   "metadata": {},
   "outputs": [],
   "source": [
    "# Still don't understand lambda functions; don't want to copy"
   ]
  }
 ],
 "metadata": {
  "kernelspec": {
   "display_name": "Python 3 (ipykernel)",
   "language": "python",
   "name": "python3"
  },
  "language_info": {
   "codemirror_mode": {
    "name": "ipython",
    "version": 3
   },
   "file_extension": ".py",
   "mimetype": "text/x-python",
   "name": "python",
   "nbconvert_exporter": "python",
   "pygments_lexer": "ipython3",
   "version": "3.11.4"
  }
 },
 "nbformat": 4,
 "nbformat_minor": 5
}
